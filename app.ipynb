{
 "cells": [
  {
   "cell_type": "markdown",
   "id": "5ef837d9",
   "metadata": {},
   "source": [
    "# Instalando Dependencias"
   ]
  },
  {
   "cell_type": "code",
   "execution_count": null,
   "id": "0cb31bbd",
   "metadata": {},
   "outputs": [],
   "source": [
    "%pip install pandas"
   ]
  },
  {
   "cell_type": "markdown",
   "id": "463051d4",
   "metadata": {},
   "source": [
    "# Schema para o DB"
   ]
  },
  {
   "cell_type": "code",
   "execution_count": null,
   "id": "b14389d4",
   "metadata": {
    "vscode": {
     "languageId": "sql"
    }
   },
   "outputs": [],
   "source": [
    "CREATE TABLE IF NOT EXISTS \"Transacoes\" (\n",
    "    id INTEGER PRIMARY KEY,\n",
    "    cliente TEXT NOT NULL,\n",
    "    data_hora DATETIME,\n",
    "    produtos TEXT,\n",
    "    valor_total DECIMAL(10, 2),\n",
    "    quantidade INTEGER,\n",
    "    categoria TEXT\n",
    ");\n",
    "\n",
    "\n",
    "CREATE TABLE IF NOT EXISTS \"Eventos\" (\n",
    "    id INTEGER PRIMARY KEY,\n",
    "    cliente_id INTEGER NOT NULL,\n",
    "    data_hora DATETIME,\n",
    "    canal VARCHAR(50),\n",
    "    campanha VARCHAR(100),\n",
    "    tipo_evento TEXT,\n",
    "    custo DECIMAL(10, 2),\n",
    "    impressoes INTEGER,\n",
    "    cliques INTEGER,\n",
    "    visualizacoes INTEGER,\n",
    "    nova_conversao INTEGER,\n",
    "    receita_gerada DECIMAL(10, 2)\n",
    "    FOREIGN KEY (cliente_id) REFERENCES Clientes(id)\n",
    ");\n"
   ]
  },
  {
   "cell_type": "markdown",
   "id": "f7ae0a68",
   "metadata": {},
   "source": [
    "# Criando um DB"
   ]
  },
  {
   "cell_type": "code",
   "execution_count": null,
   "id": "a90452f4",
   "metadata": {},
   "outputs": [],
   "source": [
    "import sqlite3\n",
    "from sqlite3 import Connection\n",
    "\n",
    "class DbConnectionHandler:\n",
    "    def __init__(self) -> None:\n",
    "        self.__connection_string = \"storage.db\"\n",
    "        self.__conn = None  \n",
    "\n",
    "    def connect(self) -> None:\n",
    "        conn = sqlite3.connect(self.__connection_string, check_same_thread=False)\n",
    "\n",
    "        with open(r'schema/schema.sql', 'r') as f:\n",
    "            conn.executescript(f.read())\n",
    "\n",
    "        self.__conn = conn\n",
    "\n",
    "    def get_connection(self) -> Connection:\n",
    "        return self.__conn\n",
    "\n",
    "db_conn_handler = DbConnectionHandler()"
   ]
  },
  {
   "cell_type": "code",
   "execution_count": null,
   "id": "e5266187",
   "metadata": {},
   "outputs": [],
   "source": [
    "db_conn_handler.connect()"
   ]
  },
  {
   "cell_type": "markdown",
   "id": "fd0ec3f0",
   "metadata": {},
   "source": [
    "# Lendo as Tabelas"
   ]
  },
  {
   "cell_type": "code",
   "execution_count": null,
   "id": "613857ab",
   "metadata": {},
   "outputs": [],
   "source": [
    "import pandas as pd\n",
    "\n",
    "tabela_transacoes = pd.read_csv(\"data/Tabela_de_Transacoes.csv\", sep=\";\")\n",
    "tabela_eventos = pd.read_csv(\"data/Tabela_de_Eventos.csv\", sep=\";\")"
   ]
  },
  {
   "cell_type": "markdown",
   "id": "65c68bc1",
   "metadata": {},
   "source": [
    "# Inserindo para o DB"
   ]
  },
  {
   "cell_type": "code",
   "execution_count": null,
   "id": "f061353f",
   "metadata": {},
   "outputs": [],
   "source": [
    "tabela_transacoes.to_sql(\"Transacoes\", db_conn_handler.get_connection(), if_exists=\"append\",index=False)"
   ]
  },
  {
   "cell_type": "code",
   "execution_count": null,
   "id": "6518801b",
   "metadata": {},
   "outputs": [],
   "source": [
    "tabela_eventos.to_sql(\"Eventos\", db_conn_handler.get_connection(), if_exists=\"append\",index=False)"
   ]
  },
  {
   "cell_type": "markdown",
   "id": "fd0bb941",
   "metadata": {},
   "source": [
    "# Extraindo Indicadores"
   ]
  },
  {
   "cell_type": "code",
   "execution_count": null,
   "id": "6817191d",
   "metadata": {},
   "outputs": [],
   "source": [
    "class IndicadoresMarketing:\n",
    "    def __init__(self) -> None:\n",
    "        self.conn = db_conn_handler.get_connection()\n",
    "        self.table = \"Eventos\"\n",
    "    \n",
    "    def calcular_indicadores_geral(self):\n",
    "        cursor = self.conn.cursor()\n",
    "\n",
    "        query = f'''\n",
    "        SELECT \n",
    "            SUM(impressoes) AS total_impressoes,\n",
    "            SUM(cliques) AS total_cliques,\n",
    "            SUM(visualizacoes) AS total_visualizacoes,\n",
    "            SUM(nova_conversao) AS total_conversoes,\n",
    "            SUM(custo) AS total_custo,\n",
    "            SUM(receita_gerada) AS total_receita\n",
    "        FROM {self.table}\n",
    "        '''\n",
    "        cursor.execute(query)\n",
    "        row = cursor.fetchone()\n",
    "\n",
    "        total_impressoes, total_cliques, total_visualizacoes, total_conversoes, total_custo, total_receita = row\n",
    "\n",
    "        ctr = ((total_cliques / total_impressoes) * 100) if total_impressoes else 0\n",
    "        cpc = (total_custo / total_cliques) if total_cliques else 0\n",
    "        cpv = (total_custo / total_visualizacoes) if total_visualizacoes else 0\n",
    "        cac = (total_custo / total_conversoes) if total_conversoes else 0\n",
    "        roi = ((total_receita - total_custo) / total_custo) if total_custo else 0\n",
    "\n",
    "        return {\n",
    "            \"CTR\": round(ctr, 4),\n",
    "            \"CPC\": round(cpc, 2),\n",
    "            \"CPV\": round(cpv, 2),\n",
    "            \"CAC\": round(cac, 4),\n",
    "            \"ROI\": round(roi, 2)\n",
    "        }\n",
    "    \n",
    "    def calcular_indicadores_por_campanha(self, client_id):\n",
    "        cursor = self.conn.cursor()\n",
    "        query = f'''\n",
    "        SELECT \n",
    "            impressoes,\n",
    "            cliques,\n",
    "            visualizacoes,\n",
    "            nova_conversao,\n",
    "            custo,\n",
    "            receita_gerada\n",
    "        FROM {self.table}\n",
    "        WHERE campanha = ?\n",
    "        '''\n",
    "        cursor.execute(query, (client_id,))\n",
    "        \n",
    "        row = cursor.fetchone()\n",
    "\n",
    "        if row is None:\n",
    "            return f\"Nenhum registro encontrado para id={client_id}\"\n",
    "\n",
    "        impressoes, cliques, visualizacoes, nova_conversao, custo, receita_gerada = row\n",
    "\n",
    "        ctr = ((cliques / impressoes) * 100) if impressoes else 0\n",
    "        cpc = (custo / cliques) if cliques else 0\n",
    "        cpv = (custo / visualizacoes) if visualizacoes else 0\n",
    "        cac = (custo / nova_conversao) if nova_conversao else 0\n",
    "        roi = ((receita_gerada - custo) / custo) if custo else 0\n",
    "\n",
    "        return {\n",
    "            \"CTR\": round(ctr, 4),\n",
    "            \"CPC\": round(cpc, 2),\n",
    "            \"CPV\": round(cpv, 2),\n",
    "            \"CAC\": round(cac, 4),\n",
    "            \"ROI\": round(roi, 2)\n",
    "        }\n",
    "    \n",
    "indicadores_marketing = IndicadoresMarketing()"
   ]
  },
  {
   "cell_type": "code",
   "execution_count": null,
   "id": "2b84926d",
   "metadata": {},
   "outputs": [],
   "source": [
    "indicadores_geral = indicadores_marketing.calcular_indicadores_geral()"
   ]
  },
  {
   "cell_type": "code",
   "execution_count": null,
   "id": "8b482517",
   "metadata": {},
   "outputs": [],
   "source": [
    "for indicador, valor  in indicadores_geral.items():\n",
    "    print(f\"{indicador}: {valor}\")"
   ]
  },
  {
   "cell_type": "code",
   "execution_count": null,
   "id": "ec93c37c",
   "metadata": {},
   "outputs": [],
   "source": [
    "indicadores_campanha = indicadores_marketing.calcular_indicadores_por_campanha(\"SkinCareVerão\")"
   ]
  },
  {
   "cell_type": "code",
   "execution_count": null,
   "id": "6167159c",
   "metadata": {},
   "outputs": [],
   "source": [
    "for indicador, valor in indicadores_campanha.items():\n",
    "    print(f\"{indicador}: {valor}\")"
   ]
  }
 ],
 "metadata": {
  "kernelspec": {
   "display_name": "Python 3",
   "language": "python",
   "name": "python3"
  },
  "language_info": {
   "codemirror_mode": {
    "name": "ipython",
    "version": 3
   },
   "file_extension": ".py",
   "mimetype": "text/x-python",
   "name": "python",
   "nbconvert_exporter": "python",
   "pygments_lexer": "ipython3",
   "version": "3.13.2"
  }
 },
 "nbformat": 4,
 "nbformat_minor": 5
}
